{
 "cells": [
  {
   "cell_type": "code",
   "execution_count": null,
   "id": "3d9a0350-3c69-4149-a7b6-ccc39b03f9f4",
   "metadata": {},
   "outputs": [],
   "source": [
    "!pip install pyotp qrcode"
   ]
  },
  {
   "cell_type": "code",
   "execution_count": null,
   "id": "d6d5439c-33c5-4ba7-a13d-8a9c9fcd1ca8",
   "metadata": {},
   "outputs": [],
   "source": [
    "import pyotp\n",
    "import time\n",
    "\n",
    "totp = pyotp.TOTP(pyotp.random_base32())\n",
    "otp = totp.now() # => '492039'\n",
    "\n",
    "print(otp)"
   ]
  },
  {
   "cell_type": "code",
   "execution_count": null,
   "id": "08c61b57-4b6b-4e3d-9c40-1ac4c746e31e",
   "metadata": {},
   "outputs": [],
   "source": [
    "# OTP verified for current time\n",
    "totp.verify('492161') # => True"
   ]
  },
  {
   "cell_type": "code",
   "execution_count": null,
   "id": "220e9f5a-2ef2-44e6-87d6-799456e17b01",
   "metadata": {},
   "outputs": [],
   "source": [
    "otp_uri = totp.provisioning_uri(name='justin@google.com', issuer_name='Justin App')"
   ]
  },
  {
   "cell_type": "code",
   "execution_count": null,
   "id": "bff82b79-12e0-4370-a73c-0374af689235",
   "metadata": {},
   "outputs": [],
   "source": [
    "import qrcode\n",
    "qr = qrcode.make(otp_uri)\n",
    "qr.save(\"otp_qrcode.jpg\")"
   ]
  },
  {
   "cell_type": "code",
   "execution_count": null,
   "id": "23c27572-bdc1-42bc-9b78-809948b2039c",
   "metadata": {},
   "outputs": [],
   "source": [
    "from IPython.display import Image"
   ]
  },
  {
   "cell_type": "markdown",
   "id": "30c8d21e-090a-47a9-bfd9-61b65a23c717",
   "metadata": {},
   "source": [
    "## Working example\n",
    "Scan the following barcode with your phone's OTP app (e.g. Google Authenticator):"
   ]
  },
  {
   "cell_type": "code",
   "execution_count": null,
   "id": "633e0f15-ec24-4d97-81d0-5a14417484cd",
   "metadata": {},
   "outputs": [],
   "source": [
    "Image(filename = \"otp_qrcode.jpg\", width=500, height=500)"
   ]
  },
  {
   "cell_type": "markdown",
   "id": "0b5acb3f-cb0b-4579-a54c-3314ea3d8d1c",
   "metadata": {},
   "source": [
    "## Check Google Authenticator\n",
    "When you check Google Authenticator, you should see the OTP will match below"
   ]
  },
  {
   "cell_type": "code",
   "execution_count": null,
   "id": "1da34003-b050-4f55-b3c6-cf7b2b25864d",
   "metadata": {},
   "outputs": [],
   "source": [
    "print(\"Current OTP:\", totp.now())"
   ]
  }
 ],
 "metadata": {
  "kernelspec": {
   "display_name": "Python 3 (ipykernel)",
   "language": "python",
   "name": "python3"
  },
  "language_info": {
   "codemirror_mode": {
    "name": "ipython",
    "version": 3
   },
   "file_extension": ".py",
   "mimetype": "text/x-python",
   "name": "python",
   "nbconvert_exporter": "python",
   "pygments_lexer": "ipython3",
   "version": "3.11.2"
  }
 },
 "nbformat": 4,
 "nbformat_minor": 5
}
